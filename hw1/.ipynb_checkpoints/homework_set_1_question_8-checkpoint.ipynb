{
 "cells": [
  {
   "cell_type": "code",
   "execution_count": 3,
   "metadata": {
    "ExecuteTime": {
     "end_time": "2018-06-24T17:26:10.076607Z",
     "start_time": "2018-06-24T17:26:09.758405Z"
    }
   },
   "outputs": [],
   "source": [
    "import scipy\n",
    "import scipy.io\n",
    "import matplotlib.pyplot as plt\n",
    "\n",
    "data = scipy.io.loadmat(\"./hw1data.mat\")\n",
    "\n",
    "x_data, y_data = np.squeeze(data['x']), np.squeeze(data['y'])"
   ]
  },
  {
   "cell_type": "markdown",
   "metadata": {},
   "source": [
    "In this problem, we are given a set of data points $(x_i, y_i)$, i = 1 ... 100. We wish to fit a quadratic model,$ y_i = ax_i^2 + bx_i + c + n_i$, to the data. Here, $(a, b, c)$ are the parameters to be determined and $n_i$ is the unknown observation noise. The $(x_i, y_i)$ points are contained in a file hw1data.mat available on the course webpage. You may load the data to MATLAB using the command load hw1data and view them using scatter(x,y,’+’). Please use the same data set and find the maximum likelihood estimate of $(a, b, c)$ assuming $n_i$ are i.i.d., and\n"
   ]
  },
  {
   "cell_type": "markdown",
   "metadata": {},
   "source": [
    "## Question 8a\n",
    "Suppose that $ y_i = ax_i^2\n",
    " + bx_i + c + n_i$, where $n_i \\sim N(0, \\sigma^2)$\n",
    "\n",
    "## Solution\n",
    "\n",
    "The maximum likelihood estimate of $y$ is to minimize the squared error\n",
    "\n",
    "$min \\sum{\\mid f(x_i) - y_i \\mid^2}$"
   ]
  },
  {
   "cell_type": "code",
   "execution_count": 52,
   "metadata": {
    "ExecuteTime": {
     "end_time": "2018-06-26T22:33:30.875135Z",
     "start_time": "2018-06-26T22:33:30.840271Z"
    }
   },
   "outputs": [
    {
     "name": "stdout",
     "output_type": "stream",
     "text": [
      "a 0.0120214262234356\n",
      "b 3.1288459333570864\n",
      "c -42.35500886122967\n"
     ]
    },
    {
     "data": {
      "text/plain": [
       "(<function __main__.solve_gaussian.<locals>.polynomial(x)>,\n",
       " 'Gaussian Noise:\\n $f = 0.012 x^2 + 3.13 x + -42.4$')"
      ]
     },
     "execution_count": 52,
     "metadata": {},
     "output_type": "execute_result"
    }
   ],
   "source": [
    "import cvxpy as cp\n",
    "import numpy as np\n",
    "\n",
    "def solve_gaussian(x, y):\n",
    "    a = cp.Variable()\n",
    "    b = cp.Variable()\n",
    "    c = cp.Variable()\n",
    "\n",
    "    x = x_data\n",
    "    y = y_data\n",
    "\n",
    "    f = a * x ** 2 + b * x + c\n",
    "\n",
    "    objective = cp.Minimize(cp.sum_squares(f - y))\n",
    "    constraints = []\n",
    "    prob = cp.Problem(objective)\n",
    "\n",
    "    # The optimal objective value is returned by `prob.solve()`.\n",
    "    result = prob.solve()\n",
    "    # The optimal value for x is stored in `x.value`.\n",
    "    print(\"a\", a.value)\n",
    "    print(\"b\", b.value)\n",
    "    print(\"c\", c.value)\n",
    "    \n",
    "    \n",
    "    def polynomial(x):\n",
    "        return a.value * x ** 2 + b.value * x + c.value\n",
    "\n",
    "    annotation = f\"Gaussian Noise:\\n $f = {a.value:.3} x^2 + {b.value:.3} x + {c.value:.3}$\"\n",
    "    return polynomial, annotation\n",
    "    \n",
    "solve_gaussian(x_data, y_data)"
   ]
  },
  {
   "cell_type": "markdown",
   "metadata": {},
   "source": [
    "## Question 8b\n",
    "\n",
    "Suppose that $ y_i = ax_i^2 + bx_i + c + n_i$, where $n_i \\sim e^{-z}$ for $z > 0$\n",
    "\n",
    "## Solution (b)\n",
    "\n",
    "We can formulate this this as a max likelihood problem, find the model parameters that have max likelihood of observing the data.\n",
    "\n",
    "Given: \n",
    "\n",
    "$(a^*,b^*,c^*) = \\operatorname*{argmin}p(x,y)$\n",
    "\n",
    "$\\begin{align} \n",
    "n_i &= y_i - ax_i^2 - bx_i - c\\\\\n",
    "&= y_i - f(x_i)\n",
    "\\end{align}$\n",
    "\n",
    "Therefore: \n",
    "\n",
    "$p(x,y) = \\displaystyle \\prod_{i=0}^{n} e^{-(y_i - f(x_i))}$  where  $y_i - f(x_i) \\ge 0$\n",
    "\n",
    "So:\n",
    "\n",
    "$\\operatorname*{max} \\log p(x,y) \\leadsto \\operatorname*{max} -\\sum{y_i - f(x_i)}$\n",
    "\n",
    "Which is equivalent to:\n",
    "\n",
    "$\\begin{align}\n",
    "\\operatorname*{minimize}& \\sum{y_i - f(x_i)} \\\\\n",
    "\\text{subject to }& y_i - f(x_i) \\ge 0 \\\\\n",
    "&\\forall i\n",
    "\\end{align}$"
   ]
  },
  {
   "cell_type": "code",
   "execution_count": 56,
   "metadata": {
    "ExecuteTime": {
     "end_time": "2018-06-26T22:36:35.861311Z",
     "start_time": "2018-06-26T22:36:35.703506Z"
    }
   },
   "outputs": [
    {
     "data": {
      "image/png": "[encoded data removed]",
      "text/plain": [
       "<Figure size 432x288 with 1 Axes>"
      ]
     },
     "metadata": {},
     "output_type": "display_data"
    },
    {
     "data": {
      "text/plain": [
       "<sympy.plotting.plot.Plot at 0x7fa4c2aa2208>"
      ]
     },
     "execution_count": 56,
     "metadata": {},
     "output_type": "execute_result"
    }
   ],
   "source": [
    "from sympy import *\n",
    "\n",
    "z = symbols('z')\n",
    "plot(exp(-z), (z, 0, 10))"
   ]
  },
  {
   "cell_type": "code",
   "execution_count": 57,
   "metadata": {
    "ExecuteTime": {
     "end_time": "2018-06-26T22:36:36.426487Z",
     "start_time": "2018-06-26T22:36:36.385746Z"
    }
   },
   "outputs": [
    {
     "name": "stdout",
     "output_type": "stream",
     "text": [
      "11690.422370231525\n",
      "a 0.01132428116669908\n",
      "b 3.173380809393162\n",
      "c -153.6071934342432\n"
     ]
    },
    {
     "data": {
      "text/plain": [
       "(<function __main__.solve_single_exp.<locals>.polynomial(x)>,\n",
       " 'Single Exp Noise:\\n $f = 0.0113 x^2 + 3.17 x + -1.54e+02$')"
      ]
     },
     "execution_count": 57,
     "metadata": {},
     "output_type": "execute_result"
    }
   ],
   "source": [
    "import cvxpy as cp\n",
    "import numpy as np\n",
    "\n",
    "def solve_single_exp(x, y):\n",
    "    a = cp.Variable()\n",
    "    b = cp.Variable()\n",
    "    c = cp.Variable()\n",
    "\n",
    "    x = x_data\n",
    "    y = y_data\n",
    "\n",
    "    f = a * x ** 2 + b * x + c\n",
    "\n",
    "    objective = cp.Minimize(cp.sum(y - f))\n",
    "    constraints = [y - f >= 0]\n",
    "    prob = cp.Problem(objective, constraints)\n",
    "\n",
    "    # The optimal objective value is returned by `prob.solve()`.\n",
    "    result = prob.solve()\n",
    "    # The optimal value for x is stored in `x.value`.\n",
    "    print(\"a\", a.value)\n",
    "    print(\"b\", b.value)\n",
    "    print(\"c\", c.value)\n",
    "    \n",
    "    \n",
    "    def polynomial(x):\n",
    "        return a.value * x ** 2 + b.value * x + c.value\n",
    "\n",
    "    annotation = f\"Single Exp Noise:\\n $f = {a.value:.3} x^2 + {b.value:.3} x + {c.value:.3}$\"\n",
    "    return polynomial, annotation\n",
    "    \n",
    "solve_single_exp(x_data, y_data)"
   ]
  },
  {
   "cell_type": "markdown",
   "metadata": {},
   "source": [
    "## Plotting"
   ]
  },
  {
   "cell_type": "code",
   "execution_count": 58,
   "metadata": {
    "ExecuteTime": {
     "end_time": "2018-06-26T22:36:37.444467Z",
     "start_time": "2018-06-26T22:36:37.066504Z"
    }
   },
   "outputs": [
    {
     "name": "stdout",
     "output_type": "stream",
     "text": [
      "a 0.0120214262234356\n",
      "b 3.1288459333570864\n",
      "c -42.35500886122967\n",
      "11690.422370231525\n",
      "a 0.01132428116669908\n",
      "b 3.173380809393162\n",
      "c -153.6071934342432\n"
     ]
    },
    {
     "name": "stderr",
     "output_type": "stream",
     "text": [
      "/home/sidney/anaconda3/envs/fastai/lib/python3.6/site-packages/matplotlib/cbook/deprecation.py:107: MatplotlibDeprecationWarning: Adding an axes using the same arguments as a previous axes currently reuses the earlier instance.  In a future version, a new instance will always be created and returned.  Meanwhile, this warning can be suppressed, and the future behavior ensured, by passing a unique label to each axes instance.\n",
      "  warnings.warn(message, mplDeprecation, stacklevel=1)\n"
     ]
    },
    {
     "data": {
      "text/plain": [
       "Text(0.5,1,'Overlay')"
      ]
     },
     "execution_count": 58,
     "metadata": {},
     "output_type": "execute_result"
    },
    {
     "data": {
      "image/png": "[encoded data removed]",
      "text/plain": [
       "<Figure size 360x720 with 3 Axes>"
      ]
     },
     "metadata": {},
     "output_type": "display_data"
    }
   ],
   "source": [
    "## Plotting\n",
    "fig = plt.figure(figsize=(5,10))\n",
    "ax1 = fig.add_subplot(311)\n",
    "ax1.scatter(x_data, y_data)\n",
    "ax1.set_title('Homework Data')\n",
    "\n",
    "xp = np.linspace(-230, 250, 100)\n",
    "\n",
    "f1, annotation_1 = solve_gaussian(x_data, y_data)\n",
    "\n",
    "ax2 = fig.add_subplot(312)\n",
    "ax2.plot(xp, f1(xp), 'r-')\n",
    "ax2.text(-200, 1000, annotation_1, color='r')\n",
    "ax2.set_title('Model fits')\n",
    "\n",
    "f2, annotation_2 = solve_single_exp(x_data, y_data)\n",
    "ax2 = fig.add_subplot(312)\n",
    "ax2.plot(xp, f2(xp), 'g-')\n",
    "ax2.text(-200, 500, annotation_2, color='g')\n",
    "\n",
    "ax3 = fig.add_subplot(313)\n",
    "ax3.plot(x_data, y_data, '.', xp, f1(xp) , 'r-', xp, f2(xp), 'g-')\n",
    "ax3.set_title('Overlay')"
   ]
  },
  {
   "cell_type": "markdown",
   "metadata": {},
   "source": [
    "<br>\n",
    "<font color=red>Correct ! But you are missing part (b) where the noise is single-sided exponential distributed. $n_i \\sim e^{-z}, z \\geq 0$</font>"
   ]
  },
  {
   "cell_type": "code",
   "execution_count": null,
   "metadata": {},
   "outputs": [],
   "source": []
  }
 ],
 "metadata": {
  "kernelspec": {
   "display_name": "Python 3",
   "language": "python",
   "name": "python3"
  },
  "language_info": {
   "codemirror_mode": {
    "name": "ipython",
    "version": 3
   },
   "file_extension": ".py",
   "mimetype": "text/x-python",
   "name": "python",
   "nbconvert_exporter": "python",
   "pygments_lexer": "ipython3",
   "version": "3.6.5"
  },
  "toc": {
   "base_numbering": 1,
   "nav_menu": {},
   "number_sections": true,
   "sideBar": true,
   "skip_h1_title": false,
   "title_cell": "Table of Contents",
   "title_sidebar": "Contents",
   "toc_cell": false,
   "toc_position": {},
   "toc_section_display": true,
   "toc_window_display": false
  },
  "varInspector": {
   "cols": {
    "lenName": 16,
    "lenType": 16,
    "lenVar": 40
   },
   "kernels_config": {
    "python": {
     "delete_cmd_postfix": "",
     "delete_cmd_prefix": "del ",
     "library": "var_list.py",
     "varRefreshCmd": "print(var_dic_list())"
    },
    "r": {
     "delete_cmd_postfix": ") ",
     "delete_cmd_prefix": "rm(",
     "library": "var_list.r",
     "varRefreshCmd": "cat(var_dic_list()) "
    }
   },
   "types_to_exclude": [
    "module",
    "function",
    "builtin_function_or_method",
    "instance",
    "_Feature"
   ],
   "window_display": false
  }
 },
 "nbformat": 4,
 "nbformat_minor": 2
}
